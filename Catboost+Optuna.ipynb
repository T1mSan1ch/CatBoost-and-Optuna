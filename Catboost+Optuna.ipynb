{
 "cells": [
  {
   "cell_type": "markdown",
   "metadata": {},
   "source": [
    "## Catboost и Optuna с небольшим feature engineering для датасета \"Titanic\""
   ]
  },
  {
   "cell_type": "markdown",
   "metadata": {},
   "source": [
    "### Импорт библиотек"
   ]
  },
  {
   "cell_type": "code",
   "execution_count": 11,
   "metadata": {},
   "outputs": [],
   "source": [
    "RANDOM_SEED= 42"
   ]
  },
  {
   "cell_type": "code",
   "execution_count": 43,
   "metadata": {},
   "outputs": [],
   "source": [
    "import numpy as np\n",
    "import pandas as pd\n",
    "import seaborn as sns\n",
    "import matplotlib.pyplot as plt\n",
    "\n",
    "plt.style.use('dark_background')\n",
    "\n",
    "from sklearn.metrics import log_loss\n",
    "from sklearn.model_selection import train_test_split\n",
    "from sklearn.model_selection import KFold\n",
    "from sklearn.model_selection import cross_val_score\n",
    "from sklearn import metrics"
   ]
  },
  {
   "cell_type": "markdown",
   "metadata": {},
   "source": [
    "`PassengerId`: Уникальный индекс/номер строки. Начинается с 1 (для первой строки) и увеличивается на 1 для каждой следующей. Рассматриваем его как идентификатор строки и, что логично, идентификатор пассажира (т.к. для каждого пассажира в датасете представлена только одна строка).  \n",
    "`Survived`: Признак, показывающий был ли спасен данный пассажир или нет. 1 означает, что удалось выжить, и 0 - не удалось спастись.  \n",
    "`Pclass`: Класс билета. 1 - означает Первый класс билета. 2 - означает Второй класс билета. 3 - означает Третий класс билета.   \n",
    "`Name`: Имя пассажира. Имя также может содержать титулы и обращения. \"Mr\" для мужчин. \"Mrs\" для женщин. \"Miss\" для девушек (тут имеется в виду что для тех, кто не замужем, так было принято, да и сейчас тоже, говорить в западном обществе). \"Master\" для юношей.  \n",
    "`Sex`: Пол пассажира. Либо мужчины (=Male) ,либо женщины (=Female).  \n",
    "`Age`: Возраст пассажира. \"NaN\" значения в этой колонке означают, что возраст данного пассажира отсутствует/неизвестен/или не был записан в датасет.  \n",
    "`SibSp`: Количество братьев/сестер или супругов, путешествующих с каждым пассажиром.\n",
    "Parch: Количество родителей детей (Number of parents of children traveling with each passenger).  \n",
    "`Ticket`: Номер билета.  \n",
    "`Fare`: Сумма, которую заплатил пассажир за путешествие.  \n",
    "`Cabin`: Номер каюты пассажира. \"NaN\" значения в этой колонке указывает на то, что номер каюты данного пассажира не был записан.  \n",
    "`Embarked`: Порт отправления данного пассажира."
   ]
  },
  {
   "cell_type": "code",
   "execution_count": 2,
   "metadata": {},
   "outputs": [
    {
     "data": {
      "text/html": [
       "<div>\n",
       "<style scoped>\n",
       "    .dataframe tbody tr th:only-of-type {\n",
       "        vertical-align: middle;\n",
       "    }\n",
       "\n",
       "    .dataframe tbody tr th {\n",
       "        vertical-align: top;\n",
       "    }\n",
       "\n",
       "    .dataframe thead th {\n",
       "        text-align: right;\n",
       "    }\n",
       "</style>\n",
       "<table border=\"1\" class=\"dataframe\">\n",
       "  <thead>\n",
       "    <tr style=\"text-align: right;\">\n",
       "      <th></th>\n",
       "      <th>Survived</th>\n",
       "      <th>Pclass</th>\n",
       "      <th>Name</th>\n",
       "      <th>Sex</th>\n",
       "      <th>Age</th>\n",
       "      <th>SibSp</th>\n",
       "      <th>Parch</th>\n",
       "      <th>Ticket</th>\n",
       "      <th>Fare</th>\n",
       "      <th>Cabin</th>\n",
       "      <th>Embarked</th>\n",
       "    </tr>\n",
       "  </thead>\n",
       "  <tbody>\n",
       "    <tr>\n",
       "      <th>0</th>\n",
       "      <td>0</td>\n",
       "      <td>3</td>\n",
       "      <td>Braund, Mr. Owen Harris</td>\n",
       "      <td>male</td>\n",
       "      <td>22.0</td>\n",
       "      <td>1</td>\n",
       "      <td>0</td>\n",
       "      <td>A/5 21171</td>\n",
       "      <td>7.2500</td>\n",
       "      <td>NaN</td>\n",
       "      <td>S</td>\n",
       "    </tr>\n",
       "    <tr>\n",
       "      <th>1</th>\n",
       "      <td>1</td>\n",
       "      <td>1</td>\n",
       "      <td>Cumings, Mrs. John Bradley (Florence Briggs Th...</td>\n",
       "      <td>female</td>\n",
       "      <td>38.0</td>\n",
       "      <td>1</td>\n",
       "      <td>0</td>\n",
       "      <td>PC 17599</td>\n",
       "      <td>71.2833</td>\n",
       "      <td>C85</td>\n",
       "      <td>C</td>\n",
       "    </tr>\n",
       "    <tr>\n",
       "      <th>2</th>\n",
       "      <td>1</td>\n",
       "      <td>3</td>\n",
       "      <td>Heikkinen, Miss. Laina</td>\n",
       "      <td>female</td>\n",
       "      <td>26.0</td>\n",
       "      <td>0</td>\n",
       "      <td>0</td>\n",
       "      <td>STON/O2. 3101282</td>\n",
       "      <td>7.9250</td>\n",
       "      <td>NaN</td>\n",
       "      <td>S</td>\n",
       "    </tr>\n",
       "    <tr>\n",
       "      <th>3</th>\n",
       "      <td>1</td>\n",
       "      <td>1</td>\n",
       "      <td>Futrelle, Mrs. Jacques Heath (Lily May Peel)</td>\n",
       "      <td>female</td>\n",
       "      <td>35.0</td>\n",
       "      <td>1</td>\n",
       "      <td>0</td>\n",
       "      <td>113803</td>\n",
       "      <td>53.1000</td>\n",
       "      <td>C123</td>\n",
       "      <td>S</td>\n",
       "    </tr>\n",
       "    <tr>\n",
       "      <th>4</th>\n",
       "      <td>0</td>\n",
       "      <td>3</td>\n",
       "      <td>Allen, Mr. William Henry</td>\n",
       "      <td>male</td>\n",
       "      <td>35.0</td>\n",
       "      <td>0</td>\n",
       "      <td>0</td>\n",
       "      <td>373450</td>\n",
       "      <td>8.0500</td>\n",
       "      <td>NaN</td>\n",
       "      <td>S</td>\n",
       "    </tr>\n",
       "  </tbody>\n",
       "</table>\n",
       "</div>"
      ],
      "text/plain": [
       "   Survived  Pclass                                               Name  \\\n",
       "0         0       3                            Braund, Mr. Owen Harris   \n",
       "1         1       1  Cumings, Mrs. John Bradley (Florence Briggs Th...   \n",
       "2         1       3                             Heikkinen, Miss. Laina   \n",
       "3         1       1       Futrelle, Mrs. Jacques Heath (Lily May Peel)   \n",
       "4         0       3                           Allen, Mr. William Henry   \n",
       "\n",
       "      Sex   Age  SibSp  Parch            Ticket     Fare Cabin Embarked  \n",
       "0    male  22.0      1      0         A/5 21171   7.2500   NaN        S  \n",
       "1  female  38.0      1      0          PC 17599  71.2833   C85        C  \n",
       "2  female  26.0      0      0  STON/O2. 3101282   7.9250   NaN        S  \n",
       "3  female  35.0      1      0            113803  53.1000  C123        S  \n",
       "4    male  35.0      0      0            373450   8.0500   NaN        S  "
      ]
     },
     "execution_count": 2,
     "metadata": {},
     "output_type": "execute_result"
    }
   ],
   "source": [
    "from catboost.datasets import titanic\n",
    "\n",
    "df_train,df_test = titanic()\n",
    "df_train.drop('PassengerId', axis=1, inplace=True)\n",
    "df_test.drop('PassengerId', axis=1, inplace=True)\n",
    "df_train.head()"
   ]
  },
  {
   "cell_type": "markdown",
   "metadata": {},
   "source": [
    "### <a name=\"посмотрим-на-данные\"></a>Посмотрим на данные"
   ]
  },
  {
   "cell_type": "code",
   "execution_count": 3,
   "metadata": {},
   "outputs": [
    {
     "data": {
      "text/plain": [
       "(891, 11)"
      ]
     },
     "execution_count": 3,
     "metadata": {},
     "output_type": "execute_result"
    }
   ],
   "source": [
    "df_train.shape"
   ]
  },
  {
   "cell_type": "code",
   "execution_count": 4,
   "metadata": {},
   "outputs": [
    {
     "data": {
      "text/plain": [
       "Survived      0\n",
       "Pclass        0\n",
       "Name          0\n",
       "Sex           0\n",
       "Age         177\n",
       "SibSp         0\n",
       "Parch         0\n",
       "Ticket        0\n",
       "Fare          0\n",
       "Cabin       687\n",
       "Embarked      2\n",
       "dtype: int64"
      ]
     },
     "execution_count": 4,
     "metadata": {},
     "output_type": "execute_result"
    }
   ],
   "source": [
    "df_train.isnull().sum()"
   ]
  },
  {
   "cell_type": "code",
   "execution_count": 5,
   "metadata": {},
   "outputs": [
    {
     "data": {
      "text/plain": [
       "Survived    0.000000\n",
       "Pclass      0.000000\n",
       "Name        0.000000\n",
       "Sex         0.000000\n",
       "Age         0.198653\n",
       "SibSp       0.000000\n",
       "Parch       0.000000\n",
       "Ticket      0.000000\n",
       "Fare        0.000000\n",
       "Cabin       0.771044\n",
       "Embarked    0.002245\n",
       "dtype: float64"
      ]
     },
     "execution_count": 5,
     "metadata": {},
     "output_type": "execute_result"
    }
   ],
   "source": [
    "1 - (df_train.count() / len(df_train))"
   ]
  },
  {
   "cell_type": "markdown",
   "metadata": {},
   "source": [
    "`Age` содержит около 20% недостающих значений, которые могут быть рассчитаны либо с помощью среднего значения, либо медианы.  \n",
    "В `Cabin` пропущено около 77% значений.  \n",
    "В `Embarted` пропущено около 0,22% значений.  "
   ]
  },
  {
   "cell_type": "code",
   "execution_count": 7,
   "metadata": {},
   "outputs": [
    {
     "data": {
      "text/html": [
       "<div>\n",
       "<style scoped>\n",
       "    .dataframe tbody tr th:only-of-type {\n",
       "        vertical-align: middle;\n",
       "    }\n",
       "\n",
       "    .dataframe tbody tr th {\n",
       "        vertical-align: top;\n",
       "    }\n",
       "\n",
       "    .dataframe thead th {\n",
       "        text-align: right;\n",
       "    }\n",
       "</style>\n",
       "<table border=\"1\" class=\"dataframe\">\n",
       "  <thead>\n",
       "    <tr style=\"text-align: right;\">\n",
       "      <th></th>\n",
       "      <th>count</th>\n",
       "      <th>unique</th>\n",
       "      <th>top</th>\n",
       "      <th>freq</th>\n",
       "      <th>mean</th>\n",
       "      <th>std</th>\n",
       "      <th>min</th>\n",
       "      <th>25%</th>\n",
       "      <th>50%</th>\n",
       "      <th>75%</th>\n",
       "      <th>max</th>\n",
       "    </tr>\n",
       "  </thead>\n",
       "  <tbody>\n",
       "    <tr>\n",
       "      <th>Survived</th>\n",
       "      <td>891.0</td>\n",
       "      <td>NaN</td>\n",
       "      <td>NaN</td>\n",
       "      <td>NaN</td>\n",
       "      <td>0.383838</td>\n",
       "      <td>0.486592</td>\n",
       "      <td>0.0</td>\n",
       "      <td>0.0</td>\n",
       "      <td>0.0</td>\n",
       "      <td>1.0</td>\n",
       "      <td>1.0</td>\n",
       "    </tr>\n",
       "    <tr>\n",
       "      <th>Pclass</th>\n",
       "      <td>891.0</td>\n",
       "      <td>NaN</td>\n",
       "      <td>NaN</td>\n",
       "      <td>NaN</td>\n",
       "      <td>2.308642</td>\n",
       "      <td>0.836071</td>\n",
       "      <td>1.0</td>\n",
       "      <td>2.0</td>\n",
       "      <td>3.0</td>\n",
       "      <td>3.0</td>\n",
       "      <td>3.0</td>\n",
       "    </tr>\n",
       "    <tr>\n",
       "      <th>Name</th>\n",
       "      <td>891</td>\n",
       "      <td>891</td>\n",
       "      <td>Braund, Mr. Owen Harris</td>\n",
       "      <td>1</td>\n",
       "      <td>NaN</td>\n",
       "      <td>NaN</td>\n",
       "      <td>NaN</td>\n",
       "      <td>NaN</td>\n",
       "      <td>NaN</td>\n",
       "      <td>NaN</td>\n",
       "      <td>NaN</td>\n",
       "    </tr>\n",
       "    <tr>\n",
       "      <th>Sex</th>\n",
       "      <td>891</td>\n",
       "      <td>2</td>\n",
       "      <td>male</td>\n",
       "      <td>577</td>\n",
       "      <td>NaN</td>\n",
       "      <td>NaN</td>\n",
       "      <td>NaN</td>\n",
       "      <td>NaN</td>\n",
       "      <td>NaN</td>\n",
       "      <td>NaN</td>\n",
       "      <td>NaN</td>\n",
       "    </tr>\n",
       "    <tr>\n",
       "      <th>Age</th>\n",
       "      <td>714.0</td>\n",
       "      <td>NaN</td>\n",
       "      <td>NaN</td>\n",
       "      <td>NaN</td>\n",
       "      <td>29.699118</td>\n",
       "      <td>14.526497</td>\n",
       "      <td>0.42</td>\n",
       "      <td>20.125</td>\n",
       "      <td>28.0</td>\n",
       "      <td>38.0</td>\n",
       "      <td>80.0</td>\n",
       "    </tr>\n",
       "    <tr>\n",
       "      <th>SibSp</th>\n",
       "      <td>891.0</td>\n",
       "      <td>NaN</td>\n",
       "      <td>NaN</td>\n",
       "      <td>NaN</td>\n",
       "      <td>0.523008</td>\n",
       "      <td>1.102743</td>\n",
       "      <td>0.0</td>\n",
       "      <td>0.0</td>\n",
       "      <td>0.0</td>\n",
       "      <td>1.0</td>\n",
       "      <td>8.0</td>\n",
       "    </tr>\n",
       "    <tr>\n",
       "      <th>Parch</th>\n",
       "      <td>891.0</td>\n",
       "      <td>NaN</td>\n",
       "      <td>NaN</td>\n",
       "      <td>NaN</td>\n",
       "      <td>0.381594</td>\n",
       "      <td>0.806057</td>\n",
       "      <td>0.0</td>\n",
       "      <td>0.0</td>\n",
       "      <td>0.0</td>\n",
       "      <td>0.0</td>\n",
       "      <td>6.0</td>\n",
       "    </tr>\n",
       "    <tr>\n",
       "      <th>Ticket</th>\n",
       "      <td>891</td>\n",
       "      <td>681</td>\n",
       "      <td>347082</td>\n",
       "      <td>7</td>\n",
       "      <td>NaN</td>\n",
       "      <td>NaN</td>\n",
       "      <td>NaN</td>\n",
       "      <td>NaN</td>\n",
       "      <td>NaN</td>\n",
       "      <td>NaN</td>\n",
       "      <td>NaN</td>\n",
       "    </tr>\n",
       "    <tr>\n",
       "      <th>Fare</th>\n",
       "      <td>891.0</td>\n",
       "      <td>NaN</td>\n",
       "      <td>NaN</td>\n",
       "      <td>NaN</td>\n",
       "      <td>32.204208</td>\n",
       "      <td>49.693429</td>\n",
       "      <td>0.0</td>\n",
       "      <td>7.9104</td>\n",
       "      <td>14.4542</td>\n",
       "      <td>31.0</td>\n",
       "      <td>512.3292</td>\n",
       "    </tr>\n",
       "    <tr>\n",
       "      <th>Cabin</th>\n",
       "      <td>204</td>\n",
       "      <td>147</td>\n",
       "      <td>B96 B98</td>\n",
       "      <td>4</td>\n",
       "      <td>NaN</td>\n",
       "      <td>NaN</td>\n",
       "      <td>NaN</td>\n",
       "      <td>NaN</td>\n",
       "      <td>NaN</td>\n",
       "      <td>NaN</td>\n",
       "      <td>NaN</td>\n",
       "    </tr>\n",
       "    <tr>\n",
       "      <th>Embarked</th>\n",
       "      <td>889</td>\n",
       "      <td>3</td>\n",
       "      <td>S</td>\n",
       "      <td>644</td>\n",
       "      <td>NaN</td>\n",
       "      <td>NaN</td>\n",
       "      <td>NaN</td>\n",
       "      <td>NaN</td>\n",
       "      <td>NaN</td>\n",
       "      <td>NaN</td>\n",
       "      <td>NaN</td>\n",
       "    </tr>\n",
       "  </tbody>\n",
       "</table>\n",
       "</div>"
      ],
      "text/plain": [
       "          count unique                      top freq       mean        std  \\\n",
       "Survived  891.0    NaN                      NaN  NaN   0.383838   0.486592   \n",
       "Pclass    891.0    NaN                      NaN  NaN   2.308642   0.836071   \n",
       "Name        891    891  Braund, Mr. Owen Harris    1        NaN        NaN   \n",
       "Sex         891      2                     male  577        NaN        NaN   \n",
       "Age       714.0    NaN                      NaN  NaN  29.699118  14.526497   \n",
       "SibSp     891.0    NaN                      NaN  NaN   0.523008   1.102743   \n",
       "Parch     891.0    NaN                      NaN  NaN   0.381594   0.806057   \n",
       "Ticket      891    681                   347082    7        NaN        NaN   \n",
       "Fare      891.0    NaN                      NaN  NaN  32.204208  49.693429   \n",
       "Cabin       204    147                  B96 B98    4        NaN        NaN   \n",
       "Embarked    889      3                        S  644        NaN        NaN   \n",
       "\n",
       "           min     25%      50%   75%       max  \n",
       "Survived   0.0     0.0      0.0   1.0       1.0  \n",
       "Pclass     1.0     2.0      3.0   3.0       3.0  \n",
       "Name       NaN     NaN      NaN   NaN       NaN  \n",
       "Sex        NaN     NaN      NaN   NaN       NaN  \n",
       "Age       0.42  20.125     28.0  38.0      80.0  \n",
       "SibSp      0.0     0.0      0.0   1.0       8.0  \n",
       "Parch      0.0     0.0      0.0   0.0       6.0  \n",
       "Ticket     NaN     NaN      NaN   NaN       NaN  \n",
       "Fare       0.0  7.9104  14.4542  31.0  512.3292  \n",
       "Cabin      NaN     NaN      NaN   NaN       NaN  \n",
       "Embarked   NaN     NaN      NaN   NaN       NaN  "
      ]
     },
     "execution_count": 7,
     "metadata": {},
     "output_type": "execute_result"
    }
   ],
   "source": [
    "df_train.describe(include='all').T"
   ]
  },
  {
   "cell_type": "markdown",
   "metadata": {},
   "source": [
    "### Восполнение пропущенных значений"
   ]
  },
  {
   "cell_type": "code",
   "execution_count": 28,
   "metadata": {},
   "outputs": [],
   "source": [
    "from sklearn.impute import KNNImputer\n",
    "from sklearn.preprocessing import MinMaxScaler\n",
    "from sklearn.preprocessing import OneHotEncoder\n",
    "\n",
    "data = df_train[['Survived', 'Pclass', 'Sex','Age', 'SibSp','Parch', 'Fare', 'Embarked']]"
   ]
  },
  {
   "cell_type": "markdown",
   "metadata": {},
   "source": [
    "`OneHotEncoder` - для категориальных данных "
   ]
  },
  {
   "cell_type": "markdown",
   "metadata": {},
   "source": [
    "Перекодируем пол пассажира, очевидно, что это важно и в этом мы убедимся позже, с местом посадки это не так очевидно, но тем не менее"
   ]
  },
  {
   "cell_type": "code",
   "execution_count": 29,
   "metadata": {},
   "outputs": [],
   "source": [
    "sx_em_dumm = pd.get_dummies(data[['Sex', 'Embarked']], drop_first=True)\n",
    "data1 = pd.concat([data, sx_em_dumm], axis=1)\n",
    "data1.drop(['Sex', 'Embarked'], axis=1, inplace=True)"
   ]
  },
  {
   "cell_type": "markdown",
   "metadata": {},
   "source": [
    "Обработаем данные для того что бы их можно было использовать к KNN"
   ]
  },
  {
   "cell_type": "code",
   "execution_count": 30,
   "metadata": {},
   "outputs": [],
   "source": [
    "scaler = MinMaxScaler()\n",
    "\n",
    "datatrmd = scaler.fit_transform(data1)\n",
    "df = pd.DataFrame(data=datatrmd, columns=data1.columns)"
   ]
  },
  {
   "cell_type": "code",
   "execution_count": 31,
   "metadata": {},
   "outputs": [],
   "source": [
    "knn_imputer = KNNImputer(weights='distance', copy=True)\n",
    "df1 = pd.DataFrame(knn_imputer.fit_transform(df), columns=df.columns)"
   ]
  },
  {
   "cell_type": "markdown",
   "metadata": {},
   "source": [
    "Вернём данные к нормальному виду"
   ]
  },
  {
   "cell_type": "code",
   "execution_count": 32,
   "metadata": {},
   "outputs": [],
   "source": [
    "datainv = scaler.inverse_transform(df1)\n",
    "df2 = pd.DataFrame(data=datainv, columns=data1.columns)"
   ]
  },
  {
   "cell_type": "code",
   "execution_count": 33,
   "metadata": {},
   "outputs": [
    {
     "data": {
      "text/html": [
       "<div>\n",
       "<style scoped>\n",
       "    .dataframe tbody tr th:only-of-type {\n",
       "        vertical-align: middle;\n",
       "    }\n",
       "\n",
       "    .dataframe tbody tr th {\n",
       "        vertical-align: top;\n",
       "    }\n",
       "\n",
       "    .dataframe thead th {\n",
       "        text-align: right;\n",
       "    }\n",
       "</style>\n",
       "<table border=\"1\" class=\"dataframe\">\n",
       "  <thead>\n",
       "    <tr style=\"text-align: right;\">\n",
       "      <th></th>\n",
       "      <th>Survived</th>\n",
       "      <th>Pclass</th>\n",
       "      <th>Age</th>\n",
       "      <th>SibSp</th>\n",
       "      <th>Parch</th>\n",
       "      <th>Fare</th>\n",
       "      <th>Sex_male</th>\n",
       "      <th>Embarked_Q</th>\n",
       "      <th>Embarked_S</th>\n",
       "      <th>Name</th>\n",
       "    </tr>\n",
       "  </thead>\n",
       "  <tbody>\n",
       "    <tr>\n",
       "      <th>0</th>\n",
       "      <td>0.0</td>\n",
       "      <td>3.0</td>\n",
       "      <td>22.0</td>\n",
       "      <td>1.0</td>\n",
       "      <td>0.0</td>\n",
       "      <td>7.2500</td>\n",
       "      <td>1.0</td>\n",
       "      <td>0.0</td>\n",
       "      <td>1.0</td>\n",
       "      <td>Braund, Mr. Owen Harris</td>\n",
       "    </tr>\n",
       "    <tr>\n",
       "      <th>1</th>\n",
       "      <td>1.0</td>\n",
       "      <td>1.0</td>\n",
       "      <td>38.0</td>\n",
       "      <td>1.0</td>\n",
       "      <td>0.0</td>\n",
       "      <td>71.2833</td>\n",
       "      <td>0.0</td>\n",
       "      <td>0.0</td>\n",
       "      <td>0.0</td>\n",
       "      <td>Cumings, Mrs. John Bradley (Florence Briggs Th...</td>\n",
       "    </tr>\n",
       "    <tr>\n",
       "      <th>2</th>\n",
       "      <td>1.0</td>\n",
       "      <td>3.0</td>\n",
       "      <td>26.0</td>\n",
       "      <td>0.0</td>\n",
       "      <td>0.0</td>\n",
       "      <td>7.9250</td>\n",
       "      <td>0.0</td>\n",
       "      <td>0.0</td>\n",
       "      <td>1.0</td>\n",
       "      <td>Heikkinen, Miss. Laina</td>\n",
       "    </tr>\n",
       "    <tr>\n",
       "      <th>3</th>\n",
       "      <td>1.0</td>\n",
       "      <td>1.0</td>\n",
       "      <td>35.0</td>\n",
       "      <td>1.0</td>\n",
       "      <td>0.0</td>\n",
       "      <td>53.1000</td>\n",
       "      <td>0.0</td>\n",
       "      <td>0.0</td>\n",
       "      <td>1.0</td>\n",
       "      <td>Futrelle, Mrs. Jacques Heath (Lily May Peel)</td>\n",
       "    </tr>\n",
       "    <tr>\n",
       "      <th>4</th>\n",
       "      <td>0.0</td>\n",
       "      <td>3.0</td>\n",
       "      <td>35.0</td>\n",
       "      <td>0.0</td>\n",
       "      <td>0.0</td>\n",
       "      <td>8.0500</td>\n",
       "      <td>1.0</td>\n",
       "      <td>0.0</td>\n",
       "      <td>1.0</td>\n",
       "      <td>Allen, Mr. William Henry</td>\n",
       "    </tr>\n",
       "  </tbody>\n",
       "</table>\n",
       "</div>"
      ],
      "text/plain": [
       "   Survived  Pclass   Age  SibSp  Parch     Fare  Sex_male  Embarked_Q  \\\n",
       "0       0.0     3.0  22.0    1.0    0.0   7.2500       1.0         0.0   \n",
       "1       1.0     1.0  38.0    1.0    0.0  71.2833       0.0         0.0   \n",
       "2       1.0     3.0  26.0    0.0    0.0   7.9250       0.0         0.0   \n",
       "3       1.0     1.0  35.0    1.0    0.0  53.1000       0.0         0.0   \n",
       "4       0.0     3.0  35.0    0.0    0.0   8.0500       1.0         0.0   \n",
       "\n",
       "   Embarked_S                                               Name  \n",
       "0         1.0                            Braund, Mr. Owen Harris  \n",
       "1         0.0  Cumings, Mrs. John Bradley (Florence Briggs Th...  \n",
       "2         1.0                             Heikkinen, Miss. Laina  \n",
       "3         1.0       Futrelle, Mrs. Jacques Heath (Lily May Peel)  \n",
       "4         1.0                           Allen, Mr. William Henry  "
      ]
     },
     "execution_count": 33,
     "metadata": {},
     "output_type": "execute_result"
    }
   ],
   "source": [
    "train_data = pd.concat([df2, df_train[['Name']]], axis=1)\n",
    "train_data.head()"
   ]
  },
  {
   "cell_type": "markdown",
   "metadata": {},
   "source": [
    "### Посмотрим на то как выживаемость коррелирует с признаками"
   ]
  },
  {
   "cell_type": "markdown",
   "metadata": {},
   "source": [
    "1. Пол"
   ]
  },
  {
   "cell_type": "code",
   "execution_count": 44,
   "metadata": {},
   "outputs": [
    {
     "data": {
      "image/png": "[encoded data removed]",
      "text/plain": [
       "<Figure size 640x480 with 1 Axes>"
      ]
     },
     "metadata": {},
     "output_type": "display_data"
    }
   ],
   "source": [
    "sns.barplot(data=train_data, x='Sex_male', y='Survived')\n",
    "plt.show()"
   ]
  },
  {
   "cell_type": "markdown",
   "metadata": {},
   "source": [
    "Выживаемость женщин выше"
   ]
  },
  {
   "cell_type": "markdown",
   "metadata": {},
   "source": [
    "2. Pclass"
   ]
  },
  {
   "cell_type": "code",
   "execution_count": 45,
   "metadata": {},
   "outputs": [
    {
     "data": {
      "image/png": "[encoded data removed]",
      "text/plain": [
       "<Figure size 640x480 with 1 Axes>"
      ]
     },
     "metadata": {},
     "output_type": "display_data"
    }
   ],
   "source": [
    "sns.barplot(data=train_data, x= 'Pclass', y='Survived', hue='Pclass')\n",
    "plt.show()"
   ]
  },
  {
   "cell_type": "markdown",
   "metadata": {},
   "source": [
    "Пассажиры 1-го и 2-го классов имеют более высокую вероятность выжить."
   ]
  },
  {
   "cell_type": "markdown",
   "metadata": {},
   "source": [
    "3. Возраст  \n",
    "Мы создадим новую фичу - Age Group, которая поможет в классификации возраста и даст общую взаимосвязь с функцией выживания. Классификация будет следующей:\n",
    "\n",
    "0-5 -> Младенец\n",
    "\n",
    "6-15 -> Ребенок\n",
    "\n",
    "16-35 -> Молодые\n",
    "\n",
    "36-55 -> Взрослые\n",
    "\n",
    "55-80 -> Старые"
   ]
  },
  {
   "cell_type": "code",
   "execution_count": 46,
   "metadata": {},
   "outputs": [
    {
     "data": {
      "image/png": "[encoded data removed]",
      "text/plain": [
       "<Figure size 640x480 with 1 Axes>"
      ]
     },
     "metadata": {},
     "output_type": "display_data"
    }
   ],
   "source": [
    "bins = [0, 6, 16, 36, 55, np.inf]\n",
    "labels = ['Baby', 'Child', 'Youth', 'Adult', 'Senior']\n",
    "\n",
    "train_data['AgeGroup'] = pd.cut(train_data['Age'], bins = bins, labels = labels)\n",
    "\n",
    "sns.barplot(data=train_data, x='AgeGroup', y='Survived', hue='AgeGroup')\n",
    "plt.show()"
   ]
  },
  {
   "cell_type": "markdown",
   "metadata": {},
   "source": [
    "Моложе -> лучше физические способности -> лучше выживаемость. Детей спасали, потому что они - дети."
   ]
  },
  {
   "cell_type": "markdown",
   "metadata": {},
   "source": [
    "4. Количество родственников "
   ]
  },
  {
   "cell_type": "code",
   "execution_count": 47,
   "metadata": {},
   "outputs": [
    {
     "data": {
      "image/png": "[encoded data removed]",
      "text/plain": [
       "<Figure size 640x480 with 1 Axes>"
      ]
     },
     "metadata": {},
     "output_type": "display_data"
    }
   ],
   "source": [
    "sns.barplot(data=train_data, x='SibSp', y='Survived', hue='SibSp')\n",
    "plt.show()"
   ]
  },
  {
   "cell_type": "markdown",
   "metadata": {},
   "source": [
    "5. Цена билета"
   ]
  },
  {
   "cell_type": "code",
   "execution_count": 48,
   "metadata": {},
   "outputs": [
    {
     "data": {
      "text/html": [
       "<div>\n",
       "<style scoped>\n",
       "    .dataframe tbody tr th:only-of-type {\n",
       "        vertical-align: middle;\n",
       "    }\n",
       "\n",
       "    .dataframe tbody tr th {\n",
       "        vertical-align: top;\n",
       "    }\n",
       "\n",
       "    .dataframe thead th {\n",
       "        text-align: right;\n",
       "    }\n",
       "</style>\n",
       "<table border=\"1\" class=\"dataframe\">\n",
       "  <thead>\n",
       "    <tr style=\"text-align: right;\">\n",
       "      <th></th>\n",
       "      <th>Fare</th>\n",
       "      <th>Pclass</th>\n",
       "    </tr>\n",
       "  </thead>\n",
       "  <tbody>\n",
       "    <tr>\n",
       "      <th>179</th>\n",
       "      <td>0.0</td>\n",
       "      <td>3.0</td>\n",
       "    </tr>\n",
       "    <tr>\n",
       "      <th>263</th>\n",
       "      <td>0.0</td>\n",
       "      <td>1.0</td>\n",
       "    </tr>\n",
       "    <tr>\n",
       "      <th>271</th>\n",
       "      <td>0.0</td>\n",
       "      <td>3.0</td>\n",
       "    </tr>\n",
       "    <tr>\n",
       "      <th>277</th>\n",
       "      <td>0.0</td>\n",
       "      <td>2.0</td>\n",
       "    </tr>\n",
       "    <tr>\n",
       "      <th>302</th>\n",
       "      <td>0.0</td>\n",
       "      <td>3.0</td>\n",
       "    </tr>\n",
       "    <tr>\n",
       "      <th>413</th>\n",
       "      <td>0.0</td>\n",
       "      <td>2.0</td>\n",
       "    </tr>\n",
       "    <tr>\n",
       "      <th>466</th>\n",
       "      <td>0.0</td>\n",
       "      <td>2.0</td>\n",
       "    </tr>\n",
       "    <tr>\n",
       "      <th>481</th>\n",
       "      <td>0.0</td>\n",
       "      <td>2.0</td>\n",
       "    </tr>\n",
       "    <tr>\n",
       "      <th>597</th>\n",
       "      <td>0.0</td>\n",
       "      <td>3.0</td>\n",
       "    </tr>\n",
       "    <tr>\n",
       "      <th>633</th>\n",
       "      <td>0.0</td>\n",
       "      <td>1.0</td>\n",
       "    </tr>\n",
       "    <tr>\n",
       "      <th>674</th>\n",
       "      <td>0.0</td>\n",
       "      <td>2.0</td>\n",
       "    </tr>\n",
       "    <tr>\n",
       "      <th>732</th>\n",
       "      <td>0.0</td>\n",
       "      <td>2.0</td>\n",
       "    </tr>\n",
       "    <tr>\n",
       "      <th>806</th>\n",
       "      <td>0.0</td>\n",
       "      <td>1.0</td>\n",
       "    </tr>\n",
       "    <tr>\n",
       "      <th>815</th>\n",
       "      <td>0.0</td>\n",
       "      <td>1.0</td>\n",
       "    </tr>\n",
       "    <tr>\n",
       "      <th>822</th>\n",
       "      <td>0.0</td>\n",
       "      <td>1.0</td>\n",
       "    </tr>\n",
       "  </tbody>\n",
       "</table>\n",
       "</div>"
      ],
      "text/plain": [
       "     Fare  Pclass\n",
       "179   0.0     3.0\n",
       "263   0.0     1.0\n",
       "271   0.0     3.0\n",
       "277   0.0     2.0\n",
       "302   0.0     3.0\n",
       "413   0.0     2.0\n",
       "466   0.0     2.0\n",
       "481   0.0     2.0\n",
       "597   0.0     3.0\n",
       "633   0.0     1.0\n",
       "674   0.0     2.0\n",
       "732   0.0     2.0\n",
       "806   0.0     1.0\n",
       "815   0.0     1.0\n",
       "822   0.0     1.0"
      ]
     },
     "execution_count": 48,
     "metadata": {},
     "output_type": "execute_result"
    }
   ],
   "source": [
    "train_data[['Fare', 'Pclass']][train_data['Fare'] == 0]"
   ]
  },
  {
   "cell_type": "code",
   "execution_count": 49,
   "metadata": {},
   "outputs": [
    {
     "name": "stdout",
     "output_type": "stream",
     "text": [
      "Mean 1: 84.1547, Mean 2: 20.6622, Mean : 13.6756\n"
     ]
    }
   ],
   "source": [
    "pclass_mean1 = round(train_data['Fare'][train_data['Pclass'] == 1].mean(), 4)\n",
    "pclass_mean2 = round(train_data['Fare'][train_data['Pclass'] == 2].mean(), 4)\n",
    "pclass_mean3 = round(train_data['Fare'][train_data['Pclass'] == 3].mean(), 4)\n",
    "print(f'Mean 1: {pclass_mean1}, Mean 2: {pclass_mean2}, Mean : {pclass_mean3}')"
   ]
  },
  {
   "cell_type": "code",
   "execution_count": 50,
   "metadata": {},
   "outputs": [
    {
     "name": "stderr",
     "output_type": "stream",
     "text": [
      "C:\\Users\\Asus\\AppData\\Local\\Temp\\ipykernel_21564\\84957320.py:1: SettingWithCopyWarning: \n",
      "A value is trying to be set on a copy of a slice from a DataFrame\n",
      "\n",
      "See the caveats in the documentation: https://pandas.pydata.org/pandas-docs/stable/user_guide/indexing.html#returning-a-view-versus-a-copy\n",
      "  train_data['Fare'][(train_data['Pclass'] == 1) & (train_data['Fare'] == 0)] = pclass_mean1\n",
      "C:\\Users\\Asus\\AppData\\Local\\Temp\\ipykernel_21564\\84957320.py:2: SettingWithCopyWarning: \n",
      "A value is trying to be set on a copy of a slice from a DataFrame\n",
      "\n",
      "See the caveats in the documentation: https://pandas.pydata.org/pandas-docs/stable/user_guide/indexing.html#returning-a-view-versus-a-copy\n",
      "  train_data['Fare'][(train_data['Pclass'] == 2) & (train_data['Fare'] == 0)] = pclass_mean2\n",
      "C:\\Users\\Asus\\AppData\\Local\\Temp\\ipykernel_21564\\84957320.py:3: SettingWithCopyWarning: \n",
      "A value is trying to be set on a copy of a slice from a DataFrame\n",
      "\n",
      "See the caveats in the documentation: https://pandas.pydata.org/pandas-docs/stable/user_guide/indexing.html#returning-a-view-versus-a-copy\n",
      "  train_data['Fare'][(train_data['Pclass'] == 3) & (train_data['Fare'] == 0)] = pclass_mean3\n"
     ]
    }
   ],
   "source": [
    "train_data['Fare'][(train_data['Pclass'] == 1) & (train_data['Fare'] == 0)] = pclass_mean1\n",
    "train_data['Fare'][(train_data['Pclass'] == 2) & (train_data['Fare'] == 0)] = pclass_mean2\n",
    "train_data['Fare'][(train_data['Pclass'] == 3) & (train_data['Fare'] == 0)] = pclass_mean3"
   ]
  },
  {
   "cell_type": "code",
   "execution_count": 51,
   "metadata": {},
   "outputs": [
    {
     "data": {
      "image/png": "[encoded data removed]",
      "text/plain": [
       "<Figure size 1200x800 with 1 Axes>"
      ]
     },
     "metadata": {},
     "output_type": "display_data"
    }
   ],
   "source": [
    "train_data['Fare'].hist(bins=50, figsize=(12, 8))\n",
    "plt.show()"
   ]
  },
  {
   "cell_type": "code",
   "execution_count": 52,
   "metadata": {},
   "outputs": [
    {
     "data": {
      "text/html": [
       "<div>\n",
       "<style scoped>\n",
       "    .dataframe tbody tr th:only-of-type {\n",
       "        vertical-align: middle;\n",
       "    }\n",
       "\n",
       "    .dataframe tbody tr th {\n",
       "        vertical-align: top;\n",
       "    }\n",
       "\n",
       "    .dataframe thead th {\n",
       "        text-align: right;\n",
       "    }\n",
       "</style>\n",
       "<table border=\"1\" class=\"dataframe\">\n",
       "  <thead>\n",
       "    <tr style=\"text-align: right;\">\n",
       "      <th></th>\n",
       "      <th>Survived</th>\n",
       "      <th>Pclass</th>\n",
       "      <th>Age</th>\n",
       "      <th>SibSp</th>\n",
       "      <th>Parch</th>\n",
       "      <th>Fare</th>\n",
       "      <th>Sex_male</th>\n",
       "      <th>Embarked_Q</th>\n",
       "      <th>Embarked_S</th>\n",
       "      <th>Name</th>\n",
       "      <th>AgeGroup</th>\n",
       "      <th>FareGroup</th>\n",
       "    </tr>\n",
       "  </thead>\n",
       "  <tbody>\n",
       "    <tr>\n",
       "      <th>0</th>\n",
       "      <td>0.0</td>\n",
       "      <td>3.0</td>\n",
       "      <td>22.0</td>\n",
       "      <td>1.0</td>\n",
       "      <td>0.0</td>\n",
       "      <td>7.2500</td>\n",
       "      <td>1.0</td>\n",
       "      <td>0.0</td>\n",
       "      <td>1.0</td>\n",
       "      <td>Braund, Mr. Owen Harris</td>\n",
       "      <td>Youth</td>\n",
       "      <td>1</td>\n",
       "    </tr>\n",
       "    <tr>\n",
       "      <th>1</th>\n",
       "      <td>1.0</td>\n",
       "      <td>1.0</td>\n",
       "      <td>38.0</td>\n",
       "      <td>1.0</td>\n",
       "      <td>0.0</td>\n",
       "      <td>71.2833</td>\n",
       "      <td>0.0</td>\n",
       "      <td>0.0</td>\n",
       "      <td>0.0</td>\n",
       "      <td>Cumings, Mrs. John Bradley (Florence Briggs Th...</td>\n",
       "      <td>Adult</td>\n",
       "      <td>2</td>\n",
       "    </tr>\n",
       "    <tr>\n",
       "      <th>2</th>\n",
       "      <td>1.0</td>\n",
       "      <td>3.0</td>\n",
       "      <td>26.0</td>\n",
       "      <td>0.0</td>\n",
       "      <td>0.0</td>\n",
       "      <td>7.9250</td>\n",
       "      <td>0.0</td>\n",
       "      <td>0.0</td>\n",
       "      <td>1.0</td>\n",
       "      <td>Heikkinen, Miss. Laina</td>\n",
       "      <td>Youth</td>\n",
       "      <td>1</td>\n",
       "    </tr>\n",
       "    <tr>\n",
       "      <th>3</th>\n",
       "      <td>1.0</td>\n",
       "      <td>1.0</td>\n",
       "      <td>35.0</td>\n",
       "      <td>1.0</td>\n",
       "      <td>0.0</td>\n",
       "      <td>53.1000</td>\n",
       "      <td>0.0</td>\n",
       "      <td>0.0</td>\n",
       "      <td>1.0</td>\n",
       "      <td>Futrelle, Mrs. Jacques Heath (Lily May Peel)</td>\n",
       "      <td>Youth</td>\n",
       "      <td>2</td>\n",
       "    </tr>\n",
       "    <tr>\n",
       "      <th>4</th>\n",
       "      <td>0.0</td>\n",
       "      <td>3.0</td>\n",
       "      <td>35.0</td>\n",
       "      <td>0.0</td>\n",
       "      <td>0.0</td>\n",
       "      <td>8.0500</td>\n",
       "      <td>1.0</td>\n",
       "      <td>0.0</td>\n",
       "      <td>1.0</td>\n",
       "      <td>Allen, Mr. William Henry</td>\n",
       "      <td>Youth</td>\n",
       "      <td>1</td>\n",
       "    </tr>\n",
       "  </tbody>\n",
       "</table>\n",
       "</div>"
      ],
      "text/plain": [
       "   Survived  Pclass   Age  SibSp  Parch     Fare  Sex_male  Embarked_Q  \\\n",
       "0       0.0     3.0  22.0    1.0    0.0   7.2500       1.0         0.0   \n",
       "1       1.0     1.0  38.0    1.0    0.0  71.2833       0.0         0.0   \n",
       "2       1.0     3.0  26.0    0.0    0.0   7.9250       0.0         0.0   \n",
       "3       1.0     1.0  35.0    1.0    0.0  53.1000       0.0         0.0   \n",
       "4       0.0     3.0  35.0    0.0    0.0   8.0500       1.0         0.0   \n",
       "\n",
       "   Embarked_S                                               Name AgeGroup  \\\n",
       "0         1.0                            Braund, Mr. Owen Harris    Youth   \n",
       "1         0.0  Cumings, Mrs. John Bradley (Florence Briggs Th...    Adult   \n",
       "2         1.0                             Heikkinen, Miss. Laina    Youth   \n",
       "3         1.0       Futrelle, Mrs. Jacques Heath (Lily May Peel)    Youth   \n",
       "4         1.0                           Allen, Mr. William Henry    Youth   \n",
       "\n",
       "   FareGroup  \n",
       "0          1  \n",
       "1          2  \n",
       "2          1  \n",
       "3          2  \n",
       "4          1  "
      ]
     },
     "execution_count": 52,
     "metadata": {},
     "output_type": "execute_result"
    }
   ],
   "source": [
    "train_data['FareGroup'] = pd.cut(train_data['Fare'], bins = [0, 41, 101, 201, np.inf], labels=[1, 2, 3, 4]).astype(int)\n",
    "train_data.head()"
   ]
  },
  {
   "cell_type": "markdown",
   "metadata": {},
   "source": [
    "7. Имя  \n",
    "А именно титул, звание и тд"
   ]
  },
  {
   "cell_type": "code",
   "execution_count": 54,
   "metadata": {},
   "outputs": [],
   "source": [
    "def titling(X, attrib):\n",
    "    titles = []\n",
    "    for i in range(len(X)):\n",
    "        titles.append(str(df_train[attrib][i]).split('.')[0].split(',')[1].strip(' '))\n",
    "    \n",
    "    return titles"
   ]
  },
  {
   "cell_type": "code",
   "execution_count": 55,
   "metadata": {},
   "outputs": [
    {
     "data": {
      "text/plain": [
       "array(['Mr', 'Mrs', 'Miss', 'Master', 'Don', 'Rev', 'Dr', 'Mme', 'Ms',\n",
       "       'Major', 'Lady', 'Sir', 'Mlle', 'Col', 'Capt', 'the Countess',\n",
       "       'Jonkheer'], dtype=object)"
      ]
     },
     "execution_count": 55,
     "metadata": {},
     "output_type": "execute_result"
    }
   ],
   "source": [
    "train_data['Title'] = titling(train_data, 'Name')\n",
    "train_data['Title'].unique()"
   ]
  },
  {
   "cell_type": "code",
   "execution_count": 136,
   "metadata": {},
   "outputs": [
    {
     "data": {
      "image/png": "[encoded data removed]",
      "text/plain": [
       "<Figure size 1200x900 with 1 Axes>"
      ]
     },
     "metadata": {},
     "output_type": "display_data"
    }
   ],
   "source": [
    "plt.figure(figsize=(12, 9))\n",
    "g = sns.barplot(data=train_data, x='Title', y='Survived')\n",
    "g.set_xticklabels(labels=train_data['Title'].unique(), rotation=45)\n",
    "plt.show()"
   ]
  },
  {
   "cell_type": "markdown",
   "metadata": {},
   "source": [
    "Разделим на три группы"
   ]
  },
  {
   "cell_type": "code",
   "execution_count": 58,
   "metadata": {},
   "outputs": [],
   "source": [
    "def tilgrouping(X, attrib):\n",
    "    royal = ['Master', 'Major', 'Lady', 'Sir', 'Col', 'the Countess']\n",
    "    common = ['Mr', 'Mrs', 'Miss', 'Dr', 'Mme', 'Ms', 'Mlle']\n",
    "    low = ['Don', 'Rev', 'Capt', 'Jonkheer']\n",
    "    \n",
    "    titleg = []\n",
    "    \n",
    "    for i in range(len(X[attrib])):\n",
    "        if (X[attrib][i]) in royal:\n",
    "            titleg.append(1)\n",
    "        elif (X[attrib][i]) in common:\n",
    "            titleg.append(2)\n",
    "        elif (X[attrib][i]) in low:\n",
    "            titleg.append(3)\n",
    "    \n",
    "    return titleg"
   ]
  },
  {
   "cell_type": "code",
   "execution_count": 63,
   "metadata": {},
   "outputs": [],
   "source": [
    "train_data['TitleGroup'] = tilgrouping(train_data, 'Title')\n"
   ]
  },
  {
   "cell_type": "code",
   "execution_count": 60,
   "metadata": {},
   "outputs": [
    {
     "data": {
      "image/png": "[encoded data removed]",
      "text/plain": [
       "<Figure size 640x480 with 1 Axes>"
      ]
     },
     "metadata": {},
     "output_type": "display_data"
    }
   ],
   "source": [
    "sns.barplot(data=train_data, x='TitleGroup', y='Survived', hue='TitleGroup')\n",
    "plt.show()"
   ]
  },
  {
   "cell_type": "markdown",
   "metadata": {},
   "source": [
    "Статные имеют выживаемость выше, т.к. их каюты находились на верхних палубах"
   ]
  },
  {
   "cell_type": "markdown",
   "metadata": {},
   "source": [
    "8. Parch"
   ]
  },
  {
   "cell_type": "code",
   "execution_count": 65,
   "metadata": {},
   "outputs": [
    {
     "data": {
      "image/png": "[encoded data removed]",
      "text/plain": [
       "<Figure size 640x480 with 1 Axes>"
      ]
     },
     "metadata": {},
     "output_type": "display_data"
    }
   ],
   "source": [
    "sns.barplot(data=train_data, x='Parch', y='Survived', hue='Parch')\n",
    "plt.show()"
   ]
  },
  {
   "cell_type": "markdown",
   "metadata": {},
   "source": [
    "Пассажиры, у которых были отношения между родителями и детьми, имели больше шансов выжить."
   ]
  },
  {
   "cell_type": "code",
   "execution_count": 64,
   "metadata": {},
   "outputs": [
    {
     "data": {
      "text/html": [
       "<div>\n",
       "<style scoped>\n",
       "    .dataframe tbody tr th:only-of-type {\n",
       "        vertical-align: middle;\n",
       "    }\n",
       "\n",
       "    .dataframe tbody tr th {\n",
       "        vertical-align: top;\n",
       "    }\n",
       "\n",
       "    .dataframe thead th {\n",
       "        text-align: right;\n",
       "    }\n",
       "</style>\n",
       "<table border=\"1\" class=\"dataframe\">\n",
       "  <thead>\n",
       "    <tr style=\"text-align: right;\">\n",
       "      <th></th>\n",
       "      <th>Survived</th>\n",
       "      <th>Pclass</th>\n",
       "      <th>Age</th>\n",
       "      <th>SibSp</th>\n",
       "      <th>Parch</th>\n",
       "      <th>Fare</th>\n",
       "      <th>Sex_male</th>\n",
       "      <th>Embarked_Q</th>\n",
       "      <th>Embarked_S</th>\n",
       "      <th>Name</th>\n",
       "      <th>AgeGroup</th>\n",
       "      <th>FareGroup</th>\n",
       "      <th>Title</th>\n",
       "      <th>TitleGroup</th>\n",
       "    </tr>\n",
       "  </thead>\n",
       "  <tbody>\n",
       "    <tr>\n",
       "      <th>0</th>\n",
       "      <td>0.0</td>\n",
       "      <td>3.0</td>\n",
       "      <td>22.0</td>\n",
       "      <td>1.0</td>\n",
       "      <td>0.0</td>\n",
       "      <td>7.25</td>\n",
       "      <td>1.0</td>\n",
       "      <td>0.0</td>\n",
       "      <td>1.0</td>\n",
       "      <td>Braund, Mr. Owen Harris</td>\n",
       "      <td>Youth</td>\n",
       "      <td>1</td>\n",
       "      <td>Mr</td>\n",
       "      <td>2</td>\n",
       "    </tr>\n",
       "  </tbody>\n",
       "</table>\n",
       "</div>"
      ],
      "text/plain": [
       "   Survived  Pclass   Age  SibSp  Parch  Fare  Sex_male  Embarked_Q  \\\n",
       "0       0.0     3.0  22.0    1.0    0.0  7.25       1.0         0.0   \n",
       "\n",
       "   Embarked_S                     Name AgeGroup  FareGroup Title  TitleGroup  \n",
       "0         1.0  Braund, Mr. Owen Harris    Youth          1    Mr           2  "
      ]
     },
     "execution_count": 64,
     "metadata": {},
     "output_type": "execute_result"
    }
   ],
   "source": [
    "train_data.head(1)"
   ]
  },
  {
   "cell_type": "markdown",
   "metadata": {},
   "source": [
    "### Обучение модели"
   ]
  },
  {
   "cell_type": "markdown",
   "metadata": {},
   "source": [
    "Но сначала решим проблемы с категориальными переменными."
   ]
  },
  {
   "cell_type": "code",
   "execution_count": 96,
   "metadata": {},
   "outputs": [
    {
     "data": {
      "text/plain": [
       "Index(['AgeGroup_Adult', 'AgeGroup_Baby', 'AgeGroup_Child', 'AgeGroup_Senior',\n",
       "       'AgeGroup_Youth', 'Title_Capt', 'Title_Col', 'Title_Don', 'Title_Dr',\n",
       "       'Title_Jonkheer', 'Title_Lady', 'Title_Major', 'Title_Master',\n",
       "       'Title_Miss', 'Title_Mlle', 'Title_Mme', 'Title_Mr', 'Title_Mrs',\n",
       "       'Title_Ms', 'Title_Rev', 'Title_Sir', 'Title_the Countess'],\n",
       "      dtype='object')"
      ]
     },
     "execution_count": 96,
     "metadata": {},
     "output_type": "execute_result"
    }
   ],
   "source": [
    "from sklearn.preprocessing import OneHotEncoder\n",
    "\n",
    "enc = OneHotEncoder(handle_unknown='ignore',\n",
    "                    sparse_output=False,\n",
    "                    ).set_output(transform='pandas')\n",
    "\n",
    "ohe = enc.fit_transform(train_data[['AgeGroup', 'Title']])\n",
    "ohe.columns"
   ]
  },
  {
   "cell_type": "markdown",
   "metadata": {},
   "source": [
    "Но я использую CatBoost поэтому воспользуемся `cat_features`"
   ]
  },
  {
   "cell_type": "code",
   "execution_count": 125,
   "metadata": {},
   "outputs": [],
   "source": [
    "X = train_data[['Pclass','Sex_male', 'Age', 'SibSp', 'Parch', 'Fare', 'AgeGroup', 'FareGroup', 'TitleGroup']]\n",
    "y = train_data[['Survived']]"
   ]
  },
  {
   "cell_type": "code",
   "execution_count": 126,
   "metadata": {},
   "outputs": [
    {
     "data": {
      "text/plain": [
       "array([6, 7, 8], dtype=int64)"
      ]
     },
     "execution_count": 126,
     "metadata": {},
     "output_type": "execute_result"
    }
   ],
   "source": [
    "cat_features_indices = np.where(X.dtypes != float)[0]\n",
    "cat_features_indices"
   ]
  },
  {
   "cell_type": "code",
   "execution_count": 127,
   "metadata": {},
   "outputs": [],
   "source": [
    "from sklearn.model_selection import train_test_split\n",
    "\n",
    "X_train, X_validation, y_train, y_validation = train_test_split(X, \n",
    "                                                                 y, \n",
    "                                                                 test_size=0.3, \n",
    "                                                                 stratify=train_data[['Survived']],\n",
    "                                                                 random_state=RANDOM_SEED)"
   ]
  },
  {
   "cell_type": "code",
   "execution_count": 128,
   "metadata": {},
   "outputs": [],
   "source": [
    "from catboost import CatBoostClassifier, Pool"
   ]
  },
  {
   "cell_type": "markdown",
   "metadata": {},
   "source": [
    "### Optuna для оптимизации подбора параметров"
   ]
  },
  {
   "cell_type": "code",
   "execution_count": 129,
   "metadata": {},
   "outputs": [],
   "source": [
    "import optuna"
   ]
  },
  {
   "cell_type": "markdown",
   "metadata": {},
   "source": [
    "Обучим по K-fold"
   ]
  },
  {
   "cell_type": "code",
   "execution_count": 123,
   "metadata": {},
   "outputs": [],
   "source": [
    "scores = []\n",
    "def optuna_optimize(trial):\n",
    "  \n",
    "    \n",
    "    kf = KFold(n_splits=5, \n",
    "               shuffle=True, \n",
    "               random_state=RANDOM_SEED)\n",
    "\n",
    "    for i, (train_index, val_index) in enumerate(kf.split(X_train, y_train)):\n",
    "        X_train1, X_val = X.iloc[train_index], X.iloc[val_index]\n",
    "        y_train1, y_val = y.iloc[train_index], y.iloc[val_index]\n",
    "\n",
    "        train_pool = Pool(X_train1,\n",
    "                        y_train1,\n",
    "                        cat_features = cat_features_indices)\n",
    "        test_pool = Pool(X_val,\n",
    "                        y_val,\n",
    "                        cat_features = cat_features_indices)\n",
    "        \n",
    "        model = CatBoostClassifier(\n",
    "          learning_rate = trial.suggest_float(\"learning_rate\", 0.001, 0.03, step=0.001),\n",
    "          l2_leaf_reg = trial.suggest_float('l2_leaf_reg', 0.25, 1.5, step=0.25),\n",
    "          depth = trial.suggest_int('depth', 5, 9, step=1),\n",
    "          early_stopping_rounds = 100,\n",
    "          random_state = RANDOM_SEED,\n",
    "          eval_metric='Accuracy',\n",
    "          loss_function='Logloss'\n",
    "        )\n",
    "\n",
    "        model.fit(train_pool,\n",
    "                eval_set = test_pool,\n",
    "                verbose=0\n",
    "                )\n",
    "\n",
    "        scores.append(model.best_score_['validation']['Accuracy'])\n",
    "\n",
    "    score = scores[-5:]\n",
    "    \n",
    "    score = np.mean(score)\n",
    "    #print(scores) #list(scores_dict.values())\n",
    "    #print(f'mean: {np.mean(scores)}, std :{np.std(scores)}')\n",
    "    trial.report(score, i)    \n",
    "\n",
    "    if trial.should_prune():\n",
    "        raise optuna.TrialPruned()\n",
    "    \n",
    "    return score\n",
    "    "
   ]
  },
  {
   "cell_type": "code",
   "execution_count": 130,
   "metadata": {},
   "outputs": [
    {
     "name": "stderr",
     "output_type": "stream",
     "text": [
      "[I 2023-11-09 23:04:54,745] A new study created in memory with name: CatBoost optuna optimize\n",
      "[I 2023-11-09 23:05:30,289] Trial 4 finished with value: 0.817741935483871 and parameters: {'learning_rate': 0.03, 'l2_leaf_reg': 1.0, 'depth': 6}. Best is trial 4 with value: 0.817741935483871.\n",
      "[I 2023-11-09 23:05:35,623] Trial 5 finished with value: 0.8161290322580645 and parameters: {'learning_rate': 0.021, 'l2_leaf_reg': 1.5, 'depth': 5}. Best is trial 4 with value: 0.817741935483871.\n",
      "[I 2023-11-09 23:05:35,697] Trial 0 finished with value: 0.8241935483870968 and parameters: {'learning_rate': 0.029, 'l2_leaf_reg': 0.25, 'depth': 6}. Best is trial 0 with value: 0.8241935483870968.\n",
      "[I 2023-11-09 23:05:36,734] Trial 6 finished with value: 0.832258064516129 and parameters: {'learning_rate': 0.023, 'l2_leaf_reg': 0.75, 'depth': 7}. Best is trial 6 with value: 0.832258064516129.\n",
      "[I 2023-11-09 23:05:37,201] Trial 3 finished with value: 0.8435483870967742 and parameters: {'learning_rate': 0.023, 'l2_leaf_reg': 0.5, 'depth': 9}. Best is trial 3 with value: 0.8435483870967742.\n",
      "[I 2023-11-09 23:05:37,504] Trial 7 finished with value: 0.8516129032258064 and parameters: {'learning_rate': 0.02, 'l2_leaf_reg': 0.5, 'depth': 5}. Best is trial 7 with value: 0.8516129032258064.\n",
      "[I 2023-11-09 23:05:39,930] Trial 9 finished with value: 0.8438193548387097 and parameters: {'learning_rate': 0.028, 'l2_leaf_reg': 0.5, 'depth': 6}. Best is trial 7 with value: 0.8516129032258064.\n",
      "[I 2023-11-09 23:05:41,019] Trial 8 finished with value: 0.8408903225806451 and parameters: {'learning_rate': 0.017, 'l2_leaf_reg': 1.25, 'depth': 9}. Best is trial 7 with value: 0.8516129032258064.\n",
      "[I 2023-11-09 23:05:41,654] Trial 10 finished with value: 0.8392774193548387 and parameters: {'learning_rate': 0.024, 'l2_leaf_reg': 1.0, 'depth': 9}. Best is trial 7 with value: 0.8516129032258064.\n",
      "[I 2023-11-09 23:05:42,474] Trial 13 finished with value: 0.8393032258064516 and parameters: {'learning_rate': 0.015, 'l2_leaf_reg': 0.5, 'depth': 8}. Best is trial 7 with value: 0.8516129032258064.\n",
      "[I 2023-11-09 23:05:42,555] Trial 15 finished with value: 0.8502967741935483 and parameters: {'learning_rate': 0.03, 'l2_leaf_reg': 0.5, 'depth': 6}. Best is trial 7 with value: 0.8516129032258064.\n",
      "[I 2023-11-09 23:05:43,835] Trial 14 finished with value: 0.8519096774193547 and parameters: {'learning_rate': 0.02, 'l2_leaf_reg': 0.25, 'depth': 9}. Best is trial 14 with value: 0.8519096774193547.\n",
      "[I 2023-11-09 23:05:43,931] Trial 2 finished with value: 0.8535225806451614 and parameters: {'learning_rate': 0.027000000000000003, 'l2_leaf_reg': 1.25, 'depth': 7}. Best is trial 2 with value: 0.8535225806451614.\n",
      "[I 2023-11-09 23:05:44,122] Trial 11 finished with value: 0.8519096774193547 and parameters: {'learning_rate': 0.017, 'l2_leaf_reg': 0.75, 'depth': 8}. Best is trial 2 with value: 0.8535225806451614.\n",
      "[I 2023-11-09 23:05:52,195] Trial 12 pruned. \n",
      "[I 2023-11-09 23:05:53,090] Trial 1 pruned. \n",
      "[I 2023-11-09 23:06:02,205] Trial 18 pruned. \n",
      "[I 2023-11-09 23:06:02,456] Trial 20 pruned. \n",
      "[I 2023-11-09 23:06:07,987] Trial 22 pruned. \n",
      "[I 2023-11-09 23:06:13,868] Trial 24 pruned. \n",
      "[I 2023-11-09 23:06:16,790] Trial 21 pruned. \n",
      "[I 2023-11-09 23:06:19,511] Trial 16 pruned. \n",
      "[I 2023-11-09 23:06:20,495] Trial 29 pruned. \n",
      "[I 2023-11-09 23:06:21,329] Trial 23 pruned. \n",
      "[I 2023-11-09 23:06:21,507] Trial 26 finished with value: 0.8454580645161289 and parameters: {'learning_rate': 0.014000000000000002, 'l2_leaf_reg': 1.5, 'depth': 6}. Best is trial 2 with value: 0.8535225806451614.\n",
      "[I 2023-11-09 23:06:26,681] Trial 28 pruned. \n",
      "[I 2023-11-09 23:06:30,591] Trial 19 pruned. \n",
      "[I 2023-11-09 23:06:30,973] Trial 17 pruned. \n",
      "[I 2023-11-09 23:06:35,229] Trial 32 pruned. \n",
      "[I 2023-11-09 23:06:36,621] Trial 30 pruned. \n",
      "[I 2023-11-09 23:06:37,631] Trial 27 pruned. \n",
      "[I 2023-11-09 23:06:38,759] Trial 25 finished with value: 0.8521290322580646 and parameters: {'learning_rate': 0.019000000000000003, 'l2_leaf_reg': 1.0, 'depth': 8}. Best is trial 2 with value: 0.8535225806451614.\n",
      "[I 2023-11-09 23:06:39,706] Trial 35 finished with value: 0.8440645161290321 and parameters: {'learning_rate': 0.008, 'l2_leaf_reg': 1.0, 'depth': 6}. Best is trial 2 with value: 0.8535225806451614.\n",
      "[I 2023-11-09 23:06:41,336] Trial 33 pruned. \n",
      "[I 2023-11-09 23:06:45,431] Trial 31 pruned. \n",
      "[I 2023-11-09 23:06:56,129] Trial 41 pruned. \n",
      "[I 2023-11-09 23:07:05,831] Trial 39 pruned. \n",
      "[I 2023-11-09 23:07:07,816] Trial 37 pruned. \n",
      "[I 2023-11-09 23:07:08,401] Trial 40 pruned. \n",
      "[I 2023-11-09 23:07:14,357] Trial 48 pruned. \n",
      "[I 2023-11-09 23:07:16,828] Trial 44 pruned. \n",
      "[I 2023-11-09 23:07:17,591] Trial 34 pruned. \n",
      "[I 2023-11-09 23:07:22,282] Trial 38 finished with value: 0.8475870967741935 and parameters: {'learning_rate': 0.013000000000000001, 'l2_leaf_reg': 0.5, 'depth': 7}. Best is trial 2 with value: 0.8535225806451614.\n",
      "[I 2023-11-09 23:07:23,717] Trial 42 finished with value: 0.8457032258064515 and parameters: {'learning_rate': 0.02, 'l2_leaf_reg': 0.75, 'depth': 7}. Best is trial 2 with value: 0.8535225806451614.\n",
      "[I 2023-11-09 23:07:24,677] Trial 36 finished with value: 0.8470709677419354 and parameters: {'learning_rate': 0.018000000000000002, 'l2_leaf_reg': 1.0, 'depth': 8}. Best is trial 2 with value: 0.8535225806451614.\n",
      "[I 2023-11-09 23:07:27,472] Trial 47 pruned. \n",
      "[I 2023-11-09 23:07:31,463] Trial 45 pruned. \n",
      "[I 2023-11-09 23:07:32,327] Trial 50 pruned. \n",
      "[I 2023-11-09 23:07:32,345] Trial 46 pruned. \n",
      "[I 2023-11-09 23:07:41,788] Trial 43 pruned. \n",
      "[I 2023-11-09 23:07:49,743] Trial 52 pruned. \n",
      "[I 2023-11-09 23:07:50,713] Trial 49 pruned. \n",
      "[I 2023-11-09 23:07:54,094] Trial 57 pruned. \n",
      "[I 2023-11-09 23:07:54,098] Trial 51 pruned. \n",
      "[I 2023-11-09 23:07:56,243] Trial 53 pruned. \n",
      "[I 2023-11-09 23:07:57,513] Trial 54 pruned. \n",
      "[I 2023-11-09 23:08:03,511] Trial 55 pruned. \n",
      "[I 2023-11-09 23:08:04,928] Trial 56 pruned. \n",
      "[I 2023-11-09 23:08:12,018] Trial 67 pruned. \n",
      "[I 2023-11-09 23:08:12,493] Trial 60 pruned. \n",
      "[I 2023-11-09 23:08:14,118] Trial 61 pruned. \n",
      "[I 2023-11-09 23:08:14,790] Trial 58 pruned. \n",
      "[I 2023-11-09 23:08:21,201] Trial 63 pruned. \n",
      "[I 2023-11-09 23:08:22,902] Trial 64 pruned. \n",
      "[I 2023-11-09 23:08:23,074] Trial 68 pruned. \n",
      "[I 2023-11-09 23:08:28,535] Trial 66 pruned. \n",
      "[I 2023-11-09 23:08:29,627] Trial 62 pruned. \n",
      "[I 2023-11-09 23:08:31,856] Trial 65 pruned. \n",
      "[I 2023-11-09 23:08:31,951] Trial 59 pruned. \n",
      "[I 2023-11-09 23:08:34,244] Trial 69 finished with value: 0.8475483870967742 and parameters: {'learning_rate': 0.012, 'l2_leaf_reg': 0.75, 'depth': 7}. Best is trial 2 with value: 0.8535225806451614.\n",
      "[I 2023-11-09 23:08:39,522] Trial 70 pruned. \n",
      "[I 2023-11-09 23:08:47,445] Trial 75 pruned. \n",
      "[I 2023-11-09 23:08:50,192] Trial 73 pruned. \n",
      "[I 2023-11-09 23:08:53,075] Trial 72 pruned. \n",
      "[I 2023-11-09 23:08:55,458] Trial 76 pruned. \n",
      "[I 2023-11-09 23:08:56,410] Trial 74 pruned. \n",
      "[I 2023-11-09 23:08:56,936] Trial 77 pruned. \n",
      "[I 2023-11-09 23:08:59,860] Trial 79 pruned. \n",
      "[I 2023-11-09 23:09:03,201] Trial 71 pruned. \n",
      "[I 2023-11-09 23:09:06,772] Trial 84 pruned. \n",
      "[I 2023-11-09 23:09:09,266] Trial 82 pruned. \n",
      "[I 2023-11-09 23:09:09,773] Trial 80 pruned. \n",
      "[I 2023-11-09 23:09:11,186] Trial 81 pruned. \n",
      "[I 2023-11-09 23:09:15,342] Trial 85 pruned. \n",
      "[I 2023-11-09 23:09:16,995] Trial 83 pruned. \n",
      "[I 2023-11-09 23:09:20,093] Trial 78 pruned. \n",
      "[I 2023-11-09 23:09:34,709] Trial 86 pruned. \n",
      "[I 2023-11-09 23:09:39,961] Trial 88 pruned. \n",
      "[I 2023-11-09 23:09:41,364] Trial 91 pruned. \n",
      "[I 2023-11-09 23:09:45,625] Trial 95 pruned. \n",
      "[I 2023-11-09 23:09:47,418] Trial 97 pruned. \n",
      "[I 2023-11-09 23:09:47,627] Trial 96 pruned. \n",
      "[I 2023-11-09 23:09:48,541] Trial 92 finished with value: 0.85 and parameters: {'learning_rate': 0.012, 'l2_leaf_reg': 1.0, 'depth': 8}. Best is trial 2 with value: 0.8535225806451614.\n",
      "[I 2023-11-09 23:09:50,478] Trial 93 finished with value: 0.8483870967741935 and parameters: {'learning_rate': 0.014000000000000002, 'l2_leaf_reg': 0.75, 'depth': 7}. Best is trial 2 with value: 0.8535225806451614.\n",
      "[I 2023-11-09 23:09:50,738] Trial 90 finished with value: 0.8580645161290322 and parameters: {'learning_rate': 0.017, 'l2_leaf_reg': 0.75, 'depth': 7}. Best is trial 90 with value: 0.8580645161290322.\n",
      "[I 2023-11-09 23:09:51,587] Trial 87 finished with value: 0.8564516129032258 and parameters: {'learning_rate': 0.018000000000000002, 'l2_leaf_reg': 1.0, 'depth': 8}. Best is trial 90 with value: 0.8580645161290322.\n",
      "[I 2023-11-09 23:09:53,494] Trial 98 pruned. \n",
      "[I 2023-11-09 23:09:56,205] Trial 89 pruned. \n",
      "[I 2023-11-09 23:10:00,202] Trial 94 pruned. \n",
      "[I 2023-11-09 23:10:00,852] Trial 99 finished with value: 0.8516129032258066 and parameters: {'learning_rate': 0.02, 'l2_leaf_reg': 1.0, 'depth': 6}. Best is trial 90 with value: 0.8580645161290322.\n"
     ]
    }
   ],
   "source": [
    "# создаем объект исследования\n",
    "# можем напрямую указать, что нам необходимо максимизировать метрику direction=\"maximize\"\n",
    "study_logger = optuna.create_study(study_name='CatBoost optuna optimize',\n",
    "                                   sampler = optuna.samplers.CmaEsSampler(),\n",
    "                                   direction='maximize')\n",
    "\n",
    "# ищем лучшую комбинацию гиперпараметров n_trials раз\n",
    "study_logger.optimize(optuna_optimize, n_trials=100, n_jobs=-1)"
   ]
  },
  {
   "cell_type": "code",
   "execution_count": 131,
   "metadata": {},
   "outputs": [
    {
     "name": "stdout",
     "output_type": "stream",
     "text": [
      "Наилучшие значения гиперпараметров {'learning_rate': 0.017, 'l2_leaf_reg': 0.75, 'depth': 7}\n",
      "Accuracy на validation наборе: 0.8581\n"
     ]
    }
   ],
   "source": [
    "# выводим результаты на валидационной выборке\n",
    "print(\"Наилучшие значения гиперпараметров {}\".format(study_logger.best_params))\n",
    "print(\"Accuracy на validation наборе: {:.4f}\".format(study_logger.best_value))"
   ]
  },
  {
   "cell_type": "code",
   "execution_count": 132,
   "metadata": {},
   "outputs": [
    {
     "name": "stdout",
     "output_type": "stream",
     "text": [
      "num of pruned trials 74\n"
     ]
    }
   ],
   "source": [
    "pruned_trial = [t for t in study_logger.trials \n",
    "                if t.state == optuna.trial.TrialState.PRUNED]\n",
    "\n",
    "print('num of pruned trials', len(pruned_trial))"
   ]
  },
  {
   "cell_type": "markdown",
   "metadata": {},
   "source": [
    "### Вывод  \n",
    "Полученный `score = 0.8581` выше среднего скора, наблюдаемого в ноутбуках на просторе интернета. Проведенный feature engineering можно считать успешным, optuna также внесла свой вклад в обучение и помогла подобрать хорошие гиперпараметры."
   ]
  }
 ],
 "metadata": {
  "kernelspec": {
   "display_name": "study",
   "language": "python",
   "name": "python3"
  },
  "language_info": {
   "codemirror_mode": {
    "name": "ipython",
    "version": 3
   },
   "file_extension": ".py",
   "mimetype": "text/x-python",
   "name": "python",
   "nbconvert_exporter": "python",
   "pygments_lexer": "ipython3",
   "version": "3.10.2"
  }
 },
 "nbformat": 4,
 "nbformat_minor": 2
}
